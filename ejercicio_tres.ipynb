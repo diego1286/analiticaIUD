{
 "cells": [
  {
   "cell_type": "code",
   "execution_count": null,
   "metadata": {},
   "outputs": [
    {
     "name": "stdout",
     "output_type": "stream",
     "text": [
      "[['Manzana', 'Roja', 'Dulce'], ['Plátano', 'Amarillo', 'Dulce'], ['Lima', 'Verde', 'Ácida']]\n"
     ]
    }
   ],
   "source": [
    "import csv\n",
    "import os\n",
    "\n",
    "# Obtener la ruta de la carpeta \"Documentos\" y el archivo frutas.csv\n",
    "ruta_documentos = os.path.join(os.path.expanduser(\"~\"), \"Documents\", \"frutas.csv\")\n",
    "\n",
    "# Lista para almacenar los datos leídos\n",
    "datos_frutas = []\n",
    "\n",
    "# Leer fichero CSV\n",
    "with open(ruta_documentos, mode=\"r\", encoding=\"utf-8\") as archivo_csv:\n",
    "    lector_csv = csv.reader(archivo_csv)\n",
    "    for fila in lector_csv:\n",
    "        datos_frutas.append(fila)  # Agregar cada fila a la lista\n",
    "\n",
    "# Imprimir la lista de listas\n",
    "print(datos_frutas)\n"
   ]
  }
 ],
 "metadata": {
  "kernelspec": {
   "display_name": "Python 3",
   "language": "python",
   "name": "python3"
  },
  "language_info": {
   "codemirror_mode": {
    "name": "ipython",
    "version": 3
   },
   "file_extension": ".py",
   "mimetype": "text/x-python",
   "name": "python",
   "nbconvert_exporter": "python",
   "pygments_lexer": "ipython3",
   "version": "3.12.4"
  }
 },
 "nbformat": 4,
 "nbformat_minor": 2
}
