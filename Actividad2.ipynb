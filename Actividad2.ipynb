{
 "cells": [
  {
   "cell_type": "markdown",
   "metadata": {
    "id": "6w05GJtEuImf"
   },
   "source": [
    "## Actividad 2: Datos JSON en Python desde una API"
   ]
  },
  {
   "cell_type": "markdown",
   "metadata": {
    "id": "Y6mbB9fXt4lw"
   },
   "source": [
    " Exploraremos cómo trabajar con un conjunto amplio de datos JSON. Nos enfocaremos en técnicas para manipular estos datos y extraer información valiosa de ellos.\n",
    "\n",
    "Para comenzar, utilizaremos una fuente de datos JSON en línea, JSONPlaceholder. Esta es una API pública que nos proporciona una gran cantidad de datos JSON, ideal para practicar y desarrollar prototipos. Empezaremos nuestra actividad importando el módulo esencial json en Python, y además, necesitaremos el módulo requests para realizar solicitudes a la API y obtener los datos:"
   ]
  },
  {
   "cell_type": "code",
   "execution_count": 12,
   "metadata": {
    "id": "16O44shEuGOK"
   },
   "outputs": [],
   "source": [
    "import json\n",
    "import requests\n"
   ]
  },
  {
   "cell_type": "markdown",
   "metadata": {
    "id": "cvBrfIqFupQv"
   },
   "source": [
    "Con los módulos `json` y `requests` en Python, podemos acceder fácilmente a datos JSON de fuentes en línea. Utilizaremos la API de JSONPlaceholder para demostrar cómo realizar una solicitud web y recibir datos. Para esto, definiremos una variable llamada `respuesta` que almacenará la información obtenida del servidor web tras realizar nuestra solicitud."
   ]
  },
  {
   "cell_type": "code",
   "execution_count": 13,
   "metadata": {
    "id": "XzcxA66fuk7V"
   },
   "outputs": [],
   "source": [
    "# Realizar una solicitud HTTP a una fuente de datos JSON\n",
    "url = \"http://jsonplaceholder.typicode.com/todos\" \n",
    "respuesta_api = requests.get(url)\n",
    "\n",
    "# Convertir la respuesta en formato JSON a una estructura de datos de Python\n",
    "lista_tareas = json.loads(respuesta_api.text)\n"
   ]
  },
  {
   "cell_type": "markdown",
   "metadata": {
    "id": "TI1-zalVN9Wf"
   },
   "source": [
    " utilizamos `requests.get` para obtener datos de la API JSONPlaceholder. Luego, usamos json.loads para convertir la respuesta, que es una cadena JSON, en una lista de diccionarios de Python que podemos manipular y analizar más fácilmente."
   ]
  },
  {
   "cell_type": "markdown",
   "metadata": {
    "id": "YCpfhQEHO1ps"
   },
   "source": [
    "Para que veas cómo funciona esto en la práctica, veamos los primeros dos elementos de nuestra lista procesada"
   ]
  },
  {
   "cell_type": "code",
   "execution_count": 14,
   "metadata": {
    "colab": {
     "base_uri": "https://localhost:8080/"
    },
    "id": "vs5wu9nDOeDy",
    "outputId": "700618ea-8ce5-455c-9434-f6e3d45997e5"
   },
   "outputs": [
    {
     "name": "stdout",
     "output_type": "stream",
     "text": [
      "Primeros dos elementos de la lista de tareas: [{'userId': 1, 'id': 1, 'title': 'delectus aut autem', 'completed': False}, {'userId': 1, 'id': 2, 'title': 'quis ut nam facilis et officia qui', 'completed': False}]\n"
     ]
    }
   ],
   "source": [
    "# Mostrando los primeros dos elementos de la lista de tareas\n",
    "print(\"Primeros dos elementos de la lista de tareas:\", lista_tareas[:2])\n"
   ]
  },
  {
   "cell_type": "markdown",
   "metadata": {
    "id": "6jv-JM9ZPaDP"
   },
   "source": [
    "Cada objeto de tarea en nuestra lista de datos JSON tiene varios atributos clave. Estos incluyen un `'userId'` que identifica al usuario responsable de la tarea, un `'id'` único para cada tarea, un `'title`' que proporciona una descripción breve de la tarea, y un campo `'completed`' que indica si la tarea ha sido finalizada o no."
   ]
  },
  {
   "cell_type": "markdown",
   "metadata": {
    "id": "SR7xS9-3P13B"
   },
   "source": [
    "Nuestro objetivo es identificar qué usuarios han finalizado más tareas TODO. Para esto, crearemos un diccionario llamado` tareas_por_usuario`. Este diccionario vinculará cada `'userId`' con el total de tareas TODO que ha completado dicho usuario."
   ]
  },
  {
   "cell_type": "markdown",
   "metadata": {
    "id": "oGN7_qwlQiuP"
   },
   "source": [
    "Vamos a crear un diccionario para llevar un seguimiento del número de tareas completadas por cada usuario y luego ordenaremos a los usuarios en función de este número."
   ]
  },
  {
   "cell_type": "code",
   "execution_count": 15,
   "metadata": {
    "id": "oz2Do-qmO_B0"
   },
   "outputs": [],
   "source": [
    "# Inicializando el diccionario para contabilizar las tareas completadas por usuario\n",
    "tareas_completadas_por_usuario = {}\n"
   ]
  },
  {
   "cell_type": "markdown",
   "metadata": {
    "id": "sh3lcY8QQn0J"
   },
   "source": [
    "Ahora procederemos a calcular el número de tareas completadas por cada usuario. Para esto, utilizaremos un bucle for que recorrerá la lista de tareas."
   ]
  },
  {
   "cell_type": "code",
   "execution_count": 16,
   "metadata": {
    "id": "YaONVEpeQnAk"
   },
   "outputs": [],
   "source": [
    "# Recorrer la lista de tareas\n",
    "for tarea in lista_tareas:\n",
    "    if tarea[\"completed\"]:\n",
    "        usuario_id = tarea[\"userId\"]\n",
    "        try:\n",
    "            # Intentar incrementar el contador para el usuario existente\n",
    "            tareas_completadas_por_usuario[usuario_id] += 1\n",
    "        except KeyError:\n",
    "            # Si el usuario no está en el diccionario, agregarlo con un contador de 1\n",
    "            tareas_completadas_por_usuario[usuario_id] = 1\n"
   ]
  },
  {
   "cell_type": "markdown",
   "metadata": {
    "id": "eDcxyZm9S1aQ"
   },
   "source": [
    "Este código recorre la lista de tareas y, para cada tarea completada, intenta incrementar el contador de tareas asociado al `userId`. Si se encuentra con un `KeyError` (lo que indica que el `userId` no existe en el diccionario), añade una nueva entrada para ese usuario con un contador inicial de 1."
   ]
  },
  {
   "cell_type": "markdown",
   "metadata": {
    "id": "QqMPwnEBT9ka"
   },
   "source": [
    "A continuación, necesitamos averiguar cuál es el mayor número de tareas completadas y qué usuarios han alcanzado esa cifra. Para esto, vamos a generar una lista de tuplas, donde cada tupla representará a un usuario y el número total de tareas que ha completado."
   ]
  },
  {
   "cell_type": "code",
   "execution_count": 17,
   "metadata": {
    "id": "NEVK5gmPVqXB"
   },
   "outputs": [],
   "source": [
    "# Ordenar los usuarios por número de tareas completadas\n",
    "usuarios_ordenados = sorted(tareas_completadas_por_usuario.items(), key=lambda x: x[1], reverse=True)\n"
   ]
  },
  {
   "cell_type": "markdown",
   "metadata": {
    "id": "NskZeqpaVt33"
   },
   "source": [
    "Aquí, `tareas_completadas_por_usuario.items()` convierte el diccionario en una lista de tuplas. Cada tupla contiene `(userId, número_de_tareas_completadas`). La función `sorted()` ordena estas tuplas basándose en el número de tareas completadas (`x[1]` en la función lambda), y el parámetro `reverse=True` asegura que la lista esté ordenada en orden descendente (es decir, desde el número más alto al más bajo).\n",
    "\n",
    "Dado que la lista está ordenada en orden descendente, el primer elemento (`usuarios_ordenados[0]`) será la tupla que contiene el mayor número de tareas completadas. Esta tupla tiene dos elementos: userId y el número de tareas completadas."
   ]
  },
  {
   "cell_type": "code",
   "execution_count": 21,
   "metadata": {
    "id": "ZVJR-09xRdfz"
   },
   "outputs": [],
   "source": [
    "\n",
    "# Determinar el máximo número de tareas completadas\n",
    "max_completadas = usuarios_ordenados[0][1]\n",
    "\n"
   ]
  },
  {
   "cell_type": "markdown",
   "metadata": {
    "id": "qHxciu2pWqzf"
   },
   "source": [
    "Al acceder al segundo elemento de esta tupla con [1] (es decir, `usuarios_ordenados[0][1]`), obtenemos el número máximo de tareas completadas. Esto se debe a que es el primer valor en la lista ordenada de manera descendente, lo que significa que es el número más alto de tareas completadas por cualquier usuario.\n",
    "\n",
    "\n",
    "Para identificar a los usuarios que han completado la cantidad máxima de tareas, primero crearemos una lista llamada `usuarios_max = []`. Esta lista almacenará los IDs de los usuarios que descubramos que han completado el mayor número de tareas."
   ]
  },
  {
   "cell_type": "code",
   "execution_count": 19,
   "metadata": {
    "colab": {
     "base_uri": "https://localhost:8080/"
    },
    "id": "SHBagxqZVDNk",
    "outputId": "5339c236-96db-404d-dcd4-ec4697532fd1"
   },
   "outputs": [],
   "source": [
    "# Lista para almacenar los usuarios que han completado el máximo número de tareas\n",
    "usuarios_max = []\n",
    "\n"
   ]
  },
  {
   "cell_type": "markdown",
   "metadata": {
    "id": "tt6QcibxXzJB"
   },
   "source": [
    "Finalmente creamos un bucle para dentificar y mostrar los usuarios que han completado la mayor cantidad de tareas TODO y los imprimimimos:\n",
    "\n",
    "\n"
   ]
  },
  {
   "cell_type": "code",
   "execution_count": 22,
   "metadata": {
    "colab": {
     "base_uri": "https://localhost:8080/"
    },
    "id": "Q-e1W4lrY3-H",
    "outputId": "72340102-5693-41d1-a067-8f15100d57f4"
   },
   "outputs": [
    {
     "name": "stdout",
     "output_type": "stream",
     "text": [
      "Usuario(s) 5 y 10 y 5 y 10 completaron 12 tareas\n"
     ]
    }
   ],
   "source": [
    "# Recorrer la lista de usuarios ordenados\n",
    "for usuario, num_completadas in usuarios_ordenados:\n",
    "    if num_completadas < max_completadas:\n",
    "        break\n",
    "    usuarios_max.append(str(usuario))\n",
    "\n",
    "# Crear una cadena con los usuarios que más tareas completaron\n",
    "usuarios_max_str = \" y \".join(usuarios_max)\n",
    "\n",
    "print(f\"Usuario(s) {usuarios_max_str} completaron {max_completadas} tareas\")\n"
   ]
  },
  {
   "cell_type": "markdown",
   "metadata": {
    "id": "s0m5xqjyZU7j"
   },
   "source": [
    "¡Felicitaciones por completar esta actividad! Aquí tienes un resumen de lo que has aprendido:\n",
    "\n",
    "1. **Manejo de Módulos en Python:**\n",
    "   Has usado los módulos `json` y `requests` para trabajar con datos JSON. El módulo `json` te permite serializar y deserializar datos, mientras que `requests` es esencial para realizar solicitudes HTTP a APIs.\n",
    "\n",
    "2. **Obtención y Procesamiento de Datos JSON:**\n",
    "   Aprendiste a hacer solicitudes web para obtener datos JSON de una API y a convertir esos datos en objetos nativos de Python para su análisis y manipulación.\n",
    "\n",
    "3. **Serialización y Deserialización de Datos:**\n",
    "   Comprendiste los conceptos de serialización (convertir objetos de Python a JSON) y deserialización (convertir JSON a objetos de Python), esenciales para el intercambio de datos entre aplicaciones y servicios.\n",
    "\n",
    "4. **Análisis y Filtrado de Datos:**\n",
    "   Practicaste cómo filtrar y procesar datos, como identificar usuarios que han completado la mayor cantidad de tareas TODO en un conjunto de datos, utilizando estructuras de control y manejo de excepciones en Python.\n",
    "\n",
    "5. **Creación de Estructuras de Datos y Algoritmos:**\n",
    "   Desarrollaste habilidades para crear estructuras de datos como diccionarios y listas, y algoritmos para analizar y organizar información en Python.\n"
   ]
  },
  {
   "cell_type": "code",
   "execution_count": null,
   "metadata": {
    "id": "pJQbqm5YY4pf"
   },
   "outputs": [],
   "source": []
  }
 ],
 "metadata": {
  "colab": {
   "provenance": []
  },
  "kernelspec": {
   "display_name": "Python 3",
   "name": "python3"
  },
  "language_info": {
   "codemirror_mode": {
    "name": "ipython",
    "version": 3
   },
   "file_extension": ".py",
   "mimetype": "text/x-python",
   "name": "python",
   "nbconvert_exporter": "python",
   "pygments_lexer": "ipython3",
   "version": "3.12.4"
  }
 },
 "nbformat": 4,
 "nbformat_minor": 0
}
