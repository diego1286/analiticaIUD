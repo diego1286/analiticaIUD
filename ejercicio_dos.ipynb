{
 "cells": [
  {
   "cell_type": "code",
   "execution_count": null,
   "metadata": {},
   "outputs": [
    {
     "name": "stdout",
     "output_type": "stream",
     "text": [
      "Datos guardados en C:\\Users\\aula07\\Documents\\frutas.csv\n"
     ]
    }
   ],
   "source": [
    "import csv\n",
    "import os\n",
    "\n",
    "# Lista de datos que se creara uan vez se ejecute el metodo\n",
    "frutas = [\n",
    "    [\"Manzana\", \"Roja\", \"Dulce\"],\n",
    "    [\"Plátano\", \"Amarillo\", \"Dulce\"],\n",
    "    [\"Lima\", \"Verde\", \"Ácida\"]\n",
    "]\n",
    "\n",
    "# Ruta de la carpeta \"Documentos\" del usuario\n",
    "ruta_documentos = os.path.join(os.path.expanduser(\"~\"), \"Documents\", \"frutas.csv\")\n",
    "\n",
    "# se crea y se hace la escritura del archivo CSV en la carpeta \"Documentos\"\n",
    "with open(ruta_documentos, mode=\"w\", newline=\"\", encoding=\"utf-8\") as archivo_csv:\n",
    "    escritor_csv = csv.writer(archivo_csv)\n",
    "    for fruta in frutas:\n",
    "        escritor_csv.writerow(fruta)\n",
    "\n",
    "#Imprime en consola la ruta de donde es creado el fichero\n",
    "print(f\"Datos guardados en {ruta_documentos}\")\n",
    "\n"
   ]
  }
 ],
 "metadata": {
  "kernelspec": {
   "display_name": "Python 3",
   "language": "python",
   "name": "python3"
  },
  "language_info": {
   "codemirror_mode": {
    "name": "ipython",
    "version": 3
   },
   "file_extension": ".py",
   "mimetype": "text/x-python",
   "name": "python",
   "nbconvert_exporter": "python",
   "pygments_lexer": "ipython3",
   "version": "3.12.4"
  }
 },
 "nbformat": 4,
 "nbformat_minor": 2
}
